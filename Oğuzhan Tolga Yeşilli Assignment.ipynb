{
 "cells": [
  {
   "cell_type": "markdown",
   "id": "bb2be192",
   "metadata": {},
   "source": [
    "# Data Science Tools and Ecosystem"
   ]
  },
  {
   "cell_type": "markdown",
   "id": "f48699a5",
   "metadata": {},
   "source": [
    "This is my first peer-graded assignment. I hope you will like it. It is about data science tools"
   ]
  },
  {
   "cell_type": "markdown",
   "id": "be40a89e",
   "metadata": {},
   "source": [
    "**Objectives**\n",
    "- Having a master degree about data science\n",
    "- Finding a job about data science\n",
    "- Improving my carreer day by day"
   ]
  },
  {
   "cell_type": "markdown",
   "id": "5a7ae8f6",
   "metadata": {},
   "source": [
    "There are many different programming languages that we can use for data science. Most common ones are:\n",
    "- Python\n",
    "- R\n",
    "- SQL"
   ]
  },
  {
   "cell_type": "markdown",
   "id": "bd385680",
   "metadata": {},
   "source": [
    "Python provides some useful libraries for working on a data science project. For example;\n",
    "- Numpy: It helps us to work with arrays\n",
    "- Pandas: We can create dataframes and working with them.\n",
    "- Matplotlib and Seaborn: By using this libraries, we can visualize our data\n",
    "- Scikit-Learn: It is a library that we can use for machine learning\n",
    "- Keras and Tensorflow: This libraries provides creating neural networks and commonly used in deep learning"
   ]
  },
  {
   "cell_type": "markdown",
   "id": "318b5174",
   "metadata": {},
   "source": [
    "| Programming Languages|   IDEs  | Libraries    |\n",
    "|----------------------|---------|------------- |\n",
    "|        Python        | Jupyter |   Numpy      |\n",
    "|           R          | RStudio |   Pandas     |\n",
    "|                      |         | Matplotlib   |\n",
    "|                      |         | Scikit-Learn |"
   ]
  },
  {
   "cell_type": "markdown",
   "id": "11dd2802",
   "metadata": {},
   "source": [
    "### Arithmetic expression examples in Python:\n"
   ]
  },
  {
   "cell_type": "code",
   "execution_count": 17,
   "id": "0cb27cbe",
   "metadata": {},
   "outputs": [
    {
     "data": {
      "text/plain": [
       "17"
      ]
     },
     "execution_count": 17,
     "metadata": {},
     "output_type": "execute_result"
    }
   ],
   "source": [
    "#Example of an arithmetic expression in Python\n",
    "(5*3) + 2"
   ]
  },
  {
   "cell_type": "code",
   "execution_count": 18,
   "id": "dec571dd",
   "metadata": {},
   "outputs": [
    {
     "data": {
      "text/plain": [
       "3.3333333333333335"
      ]
     },
     "execution_count": 18,
     "metadata": {},
     "output_type": "execute_result"
    }
   ],
   "source": [
    "#Converting minutes to hours\n",
    "mins = 200\n",
    "hour = mins/60\n",
    "hour"
   ]
  },
  {
   "cell_type": "markdown",
   "id": "b036158d",
   "metadata": {},
   "source": [
    "## Author\n",
    "Oğuzhan Tolga Yeşilli"
   ]
  },
  {
   "cell_type": "code",
   "execution_count": null,
   "id": "40e562cd",
   "metadata": {},
   "outputs": [],
   "source": []
  },
  {
   "cell_type": "markdown",
   "id": "e2fecff8",
   "metadata": {},
   "source": []
  },
  {
   "cell_type": "code",
   "execution_count": null,
   "id": "0f6f7e3e",
   "metadata": {},
   "outputs": [],
   "source": []
  }
 ],
 "metadata": {
  "kernelspec": {
   "display_name": "Python 3 (ipykernel)",
   "language": "python",
   "name": "python3"
  },
  "language_info": {
   "codemirror_mode": {
    "name": "ipython",
    "version": 3
   },
   "file_extension": ".py",
   "mimetype": "text/x-python",
   "name": "python",
   "nbconvert_exporter": "python",
   "pygments_lexer": "ipython3",
   "version": "3.11.4"
  }
 },
 "nbformat": 4,
 "nbformat_minor": 5
}
